{
  "nbformat": 4,
  "nbformat_minor": 0,
  "metadata": {
    "colab": {
      "name": "seminar BERT_MT",
      "provenance": [],
      "collapsed_sections": []
    },
    "kernelspec": {
      "name": "python3",
      "display_name": "Python 3"
    },
    "accelerator": "GPU"
  },
  "cells": [
    {
      "cell_type": "code",
      "metadata": {
        "id": "90yiBmRhoR9r",
        "colab_type": "code",
        "colab": {}
      },
      "source": [
        "import numpy as np \n",
        "import pandas as pd \n",
        "import os\n",
        "from tqdm import tqdm, trange\n",
        "import pickle\n",
        "import gc\n",
        "\n",
        "\n",
        "from keras.callbacks import EarlyStopping, ModelCheckpoint, LearningRateScheduler, ReduceLROnPlateau\n",
        "from keras.layers import Input, Dense, Embedding, Dropout, add, concatenate\n",
        "from keras.layers import CuDNNLSTM, Bidirectional, LSTM, CuDNNGRU\n",
        "from keras.losses import binary_crossentropy\n",
        "from keras.models import Model\n",
        "from keras.optimizers import Adam\n",
        "\n",
        "from sklearn.metrics import roc_auc_score\n",
        "from sklearn.model_selection import KFold"
      ],
      "execution_count": 0,
      "outputs": []
    },
    {
      "cell_type": "markdown",
      "metadata": {
        "id": "-Vdtb-4xG8S9",
        "colab_type": "text"
      },
      "source": [
        "Установим модуль для работы с BERT"
      ]
    },
    {
      "cell_type": "code",
      "metadata": {
        "id": "ceA1Vy0BoaYo",
        "colab_type": "code",
        "outputId": "d70a75a0-4e45-4a68-c699-a0f5a2da7884",
        "colab": {
          "base_uri": "https://localhost:8080/",
          "height": 332
        }
      },
      "source": [
        "!pip install pytorch-pretrained-bert"
      ],
      "execution_count": 0,
      "outputs": [
        {
          "output_type": "stream",
          "text": [
            "Requirement already satisfied: pytorch-pretrained-bert in /usr/local/lib/python3.6/dist-packages (0.6.2)\n",
            "Requirement already satisfied: boto3 in /usr/local/lib/python3.6/dist-packages (from pytorch-pretrained-bert) (1.9.251)\n",
            "Requirement already satisfied: torch>=0.4.1 in /usr/local/lib/python3.6/dist-packages (from pytorch-pretrained-bert) (1.3.0+cu100)\n",
            "Requirement already satisfied: regex in /usr/local/lib/python3.6/dist-packages (from pytorch-pretrained-bert) (2019.8.19)\n",
            "Requirement already satisfied: numpy in /usr/local/lib/python3.6/dist-packages (from pytorch-pretrained-bert) (1.16.5)\n",
            "Requirement already satisfied: tqdm in /usr/local/lib/python3.6/dist-packages (from pytorch-pretrained-bert) (4.28.1)\n",
            "Requirement already satisfied: requests in /usr/local/lib/python3.6/dist-packages (from pytorch-pretrained-bert) (2.21.0)\n",
            "Requirement already satisfied: jmespath<1.0.0,>=0.7.1 in /usr/local/lib/python3.6/dist-packages (from boto3->pytorch-pretrained-bert) (0.9.4)\n",
            "Requirement already satisfied: botocore<1.13.0,>=1.12.251 in /usr/local/lib/python3.6/dist-packages (from boto3->pytorch-pretrained-bert) (1.12.251)\n",
            "Requirement already satisfied: s3transfer<0.3.0,>=0.2.0 in /usr/local/lib/python3.6/dist-packages (from boto3->pytorch-pretrained-bert) (0.2.1)\n",
            "Requirement already satisfied: chardet<3.1.0,>=3.0.2 in /usr/local/lib/python3.6/dist-packages (from requests->pytorch-pretrained-bert) (3.0.4)\n",
            "Requirement already satisfied: certifi>=2017.4.17 in /usr/local/lib/python3.6/dist-packages (from requests->pytorch-pretrained-bert) (2019.9.11)\n",
            "Requirement already satisfied: idna<2.9,>=2.5 in /usr/local/lib/python3.6/dist-packages (from requests->pytorch-pretrained-bert) (2.8)\n",
            "Requirement already satisfied: urllib3<1.25,>=1.21.1 in /usr/local/lib/python3.6/dist-packages (from requests->pytorch-pretrained-bert) (1.24.3)\n",
            "Requirement already satisfied: docutils<0.16,>=0.10 in /usr/local/lib/python3.6/dist-packages (from botocore<1.13.0,>=1.12.251->boto3->pytorch-pretrained-bert) (0.15.2)\n",
            "Requirement already satisfied: python-dateutil<3.0.0,>=2.1; python_version >= \"2.7\" in /usr/local/lib/python3.6/dist-packages (from botocore<1.13.0,>=1.12.251->boto3->pytorch-pretrained-bert) (2.5.3)\n",
            "Requirement already satisfied: six>=1.5 in /usr/local/lib/python3.6/dist-packages (from python-dateutil<3.0.0,>=2.1; python_version >= \"2.7\"->botocore<1.13.0,>=1.12.251->boto3->pytorch-pretrained-bert) (1.12.0)\n"
          ],
          "name": "stdout"
        }
      ]
    },
    {
      "cell_type": "code",
      "metadata": {
        "id": "xsljGUa-ojjV",
        "colab_type": "code",
        "colab": {}
      },
      "source": [
        "from pytorch_pretrained_bert import BertTokenizer\n",
        "from pytorch_pretrained_bert.modeling import BertModel"
      ],
      "execution_count": 0,
      "outputs": []
    },
    {
      "cell_type": "markdown",
      "metadata": {
        "id": "isbVluSzHAfS",
        "colab_type": "text"
      },
      "source": [
        "Прежде, чем приступать к работе с моделью -- скачаем данные (уже обработанные). "
      ]
    },
    {
      "cell_type": "code",
      "metadata": {
        "id": "Wl7WSChUoo12",
        "colab_type": "code",
        "outputId": "096fdf42-31f1-4ff5-f9b7-fd5f8aab4c38",
        "colab": {
          "base_uri": "https://localhost:8080/",
          "height": 454
        }
      },
      "source": [
        "!wget https://www.dropbox.com/s/3w5swcdhhix2vkt/train_bert-base-uncased_ids.csv.zip"
      ],
      "execution_count": 0,
      "outputs": [
        {
          "output_type": "stream",
          "text": [
            "--2019-10-22 18:12:53--  https://www.dropbox.com/s/3w5swcdhhix2vkt/train_bert-base-uncased_ids.csv.zip\n",
            "Resolving www.dropbox.com (www.dropbox.com)... 162.125.65.1, 2620:100:6021:1::a27d:4101\n",
            "Connecting to www.dropbox.com (www.dropbox.com)|162.125.65.1|:443... connected.\n",
            "HTTP request sent, awaiting response... 301 Moved Permanently\n",
            "Location: /s/raw/3w5swcdhhix2vkt/train_bert-base-uncased_ids.csv.zip [following]\n",
            "--2019-10-22 18:12:53--  https://www.dropbox.com/s/raw/3w5swcdhhix2vkt/train_bert-base-uncased_ids.csv.zip\n",
            "Reusing existing connection to www.dropbox.com:443.\n",
            "HTTP request sent, awaiting response... 302 Found\n",
            "Location: https://uc2252f1c31f615c92e1cdc66fe4.dl.dropboxusercontent.com/cd/0/inline/Aq6psIuqdt9pW32wHG_QZLpN705CLi_OfylC9vCbgq5skimMzYLhy0H86zEQXavk6X90nyRyT7OqGBYl9yw1HNCRmyzadyOwHycgEhdbWbSYVp91WpGnJdfmsai-uNSyFUg/file# [following]\n",
            "--2019-10-22 18:12:53--  https://uc2252f1c31f615c92e1cdc66fe4.dl.dropboxusercontent.com/cd/0/inline/Aq6psIuqdt9pW32wHG_QZLpN705CLi_OfylC9vCbgq5skimMzYLhy0H86zEQXavk6X90nyRyT7OqGBYl9yw1HNCRmyzadyOwHycgEhdbWbSYVp91WpGnJdfmsai-uNSyFUg/file\n",
            "Resolving uc2252f1c31f615c92e1cdc66fe4.dl.dropboxusercontent.com (uc2252f1c31f615c92e1cdc66fe4.dl.dropboxusercontent.com)... 162.125.65.6, 2620:100:6021:6::a27d:4106\n",
            "Connecting to uc2252f1c31f615c92e1cdc66fe4.dl.dropboxusercontent.com (uc2252f1c31f615c92e1cdc66fe4.dl.dropboxusercontent.com)|162.125.65.6|:443... connected.\n",
            "HTTP request sent, awaiting response... 302 FOUND\n",
            "Location: /cd/0/inline2/Aq5wj3CNsxgIcVpjhoALww2RimkoRD7P8bnxC061v7Lnrea91vQ6TpVpuKIky4CHSaHESll6YzcvPQEpd44HvMGd6QdDOXn5Z-_GfGh7xQ8xWX40nVGnuD6szyQqUB1RgoxejpN0KZonfC7QeqZAVvT3Z3T7rNiWs1bp32l3aGnPTkStoMMelnu0nmLc-ZfqzxVwvouREEf6ygA1o6oAwz6w0U-tpJ91tpvIUzDqtrwRpeDpwbNKPRWWSVXDvK7iMU38XeACYbp3Y6fadWlEHvwhNl7bZZ_-vUYOdBCKwOnD-_SN-FgVbUF8ZN06xDfJmUHIo-YqsD5yba2DO8yq68CVJzS6L-CYM7H68nR1IcBXiw/file [following]\n",
            "--2019-10-22 18:12:54--  https://uc2252f1c31f615c92e1cdc66fe4.dl.dropboxusercontent.com/cd/0/inline2/Aq5wj3CNsxgIcVpjhoALww2RimkoRD7P8bnxC061v7Lnrea91vQ6TpVpuKIky4CHSaHESll6YzcvPQEpd44HvMGd6QdDOXn5Z-_GfGh7xQ8xWX40nVGnuD6szyQqUB1RgoxejpN0KZonfC7QeqZAVvT3Z3T7rNiWs1bp32l3aGnPTkStoMMelnu0nmLc-ZfqzxVwvouREEf6ygA1o6oAwz6w0U-tpJ91tpvIUzDqtrwRpeDpwbNKPRWWSVXDvK7iMU38XeACYbp3Y6fadWlEHvwhNl7bZZ_-vUYOdBCKwOnD-_SN-FgVbUF8ZN06xDfJmUHIo-YqsD5yba2DO8yq68CVJzS6L-CYM7H68nR1IcBXiw/file\n",
            "Reusing existing connection to uc2252f1c31f615c92e1cdc66fe4.dl.dropboxusercontent.com:443.\n",
            "HTTP request sent, awaiting response... 200 OK\n",
            "Length: 264194214 (252M) [application/zip]\n",
            "Saving to: ‘train_bert-base-uncased_ids.csv.zip.2’\n",
            "\n",
            "train_bert-base-unc 100%[===================>] 251.96M  32.5MB/s    in 7.6s    \n",
            "\n",
            "2019-10-22 18:13:02 (33.2 MB/s) - ‘train_bert-base-uncased_ids.csv.zip.2’ saved [264194214/264194214]\n",
            "\n"
          ],
          "name": "stdout"
        }
      ]
    },
    {
      "cell_type": "markdown",
      "metadata": {
        "id": "gfSFKHvdHRl1",
        "colab_type": "text"
      },
      "source": [
        "Теперь загрузим эмбеддинги из модели BERT"
      ]
    },
    {
      "cell_type": "code",
      "metadata": {
        "id": "3UFCbr6OqGpx",
        "colab_type": "code",
        "colab": {}
      },
      "source": [
        "def get_bert_embed_matrix():\n",
        "    bert = BertModel.from_pretrained('bert-base-uncased') #bert-large-uncased\n",
        "    bert_embeddings = list(bert.children())[0] #get all modules\n",
        "    bert_word_embeddings = list(bert_embeddings.children())[0] #choose the one that stores embedding\n",
        "    embeddings = bert_word_embeddings.weight.data.numpy() #pytorch magic\n",
        "    return embeddings"
      ],
      "execution_count": 0,
      "outputs": []
    },
    {
      "cell_type": "code",
      "metadata": {
        "id": "HClm6a3-xokG",
        "colab_type": "code",
        "outputId": "59696f0b-6d92-4fa7-a8eb-2f862e665979",
        "colab": {
          "base_uri": "https://localhost:8080/",
          "height": 55
        }
      },
      "source": [
        "list(bert.children()"
      ],
      "execution_count": 0,
      "outputs": [
        {
          "output_type": "execute_result",
          "data": {
            "text/plain": [
              "<generator object Module.children at 0x7f05c36f7f68>"
            ]
          },
          "metadata": {
            "tags": []
          },
          "execution_count": 46
        }
      ]
    },
    {
      "cell_type": "code",
      "metadata": {
        "id": "VGACTutfqL0h",
        "colab_type": "code",
        "colab": {}
      },
      "source": [
        "train = pd.read_csv('train_bert-base-uncased_ids.csv.zip')\n",
        "train = train.sample(frac=0.1)"
      ],
      "execution_count": 0,
      "outputs": []
    },
    {
      "cell_type": "code",
      "metadata": {
        "id": "ES3-mmees6e-",
        "colab_type": "code",
        "colab": {}
      },
      "source": [
        "embedding_matrix = get_bert_embed_matrix()"
      ],
      "execution_count": 0,
      "outputs": []
    },
    {
      "cell_type": "markdown",
      "metadata": {
        "id": "VWM3tiKxIp62",
        "colab_type": "text"
      },
      "source": [
        "Загрузим токены в матрицу:"
      ]
    },
    {
      "cell_type": "code",
      "metadata": {
        "id": "TCU4zitctISa",
        "colab_type": "code",
        "outputId": "465f5791-b3d0-4d2b-dd8a-97df8cb33f37",
        "colab": {
          "base_uri": "https://localhost:8080/",
          "height": 55
        }
      },
      "source": [
        "x_train = np.zeros((train.shape[0], 250),dtype=np.int)\n",
        "\n",
        "for i, ids in tqdm(enumerate(list(train['comment_text']))):\n",
        "    input_ids = [int(i) for i in ids.split()[:250]]\n",
        "    inp_len = len(input_ids)\n",
        "    x_train[i,:inp_len] = np.array(input_ids)\n",
        "    \n",
        "y_aux_train = train[['target', 'severe_toxicity', 'obscene', 'identity_attack', 'insult', 'threat']].values    "
      ],
      "execution_count": 0,
      "outputs": [
        {
          "output_type": "stream",
          "text": [
            "180487it [00:05, 35077.30it/s]\n"
          ],
          "name": "stderr"
        }
      ]
    },
    {
      "cell_type": "markdown",
      "metadata": {
        "id": "CMrQEQp9GmeC",
        "colab_type": "text"
      },
      "source": [
        "### Задание 0. Разбейте выборку на train/val."
      ]
    },
    {
      "cell_type": "code",
      "metadata": {
        "id": "OgFwwyGEGtSR",
        "colab_type": "code",
        "colab": {}
      },
      "source": [
        "from sklearn.model_selection import train_test_split\n",
        "\n",
        "X_train, X_val, y_train, y_val = train_test_split(x_train, y_aux_train, random_seed=42)"
      ],
      "execution_count": 0,
      "outputs": []
    },
    {
      "cell_type": "markdown",
      "metadata": {
        "id": "2JWREeisET33",
        "colab_type": "text"
      },
      "source": [
        "### Задание 1: Напишите свою модель\n",
        "\n",
        "Что в него должно входить?\n",
        "\n",
        "\n",
        "\n",
        "*  Загрузка эммедингов из берта в качестве весов \n",
        "*  CuDNNLSTM / CuDNNGRU\n",
        "*  Несколько полносвязных слоев\n",
        "*  Клиппинг градиентов в оптимайзере\n",
        "\n",
        "\n",
        "Пример: \n",
        "\n",
        "Input -> Embedding -> LSTM/GRU -> Dense -> Sigomoid(num_aux_targets)"
      ]
    },
    {
      "cell_type": "code",
      "metadata": {
        "id": "AB04XwNHuJnD",
        "colab_type": "code",
        "colab": {}
      },
      "source": [
        "def build_model(embedding_matrix, num_aux_targets):\n",
        "    input_layer = Input((250,), name = 'comment_text')\n",
        "    embedding_layer = Embedding(*embedding_matrix.shape, input_length=250, \n",
        "                                weights=[embedding_matrix], \n",
        "                                trainable = False)(input_layer)\n",
        "    x = Bidirectional(CuDNNGRU(128, return_sequences=True))(embedding_layer)\n",
        "    x = Dropout(0.3)(x)\n",
        "    x = Bidirectional(CuDNNGRU(128, return_sequences=False))(x) #true\n",
        "    #MaxPooling, AveragePooling\n",
        "    x = Dense(64, activation=\"relu\")(x)\n",
        "    output_layer = Dense(num_aux_targets, activation=\"sigmoid\")(x)\n",
        "\n",
        "    model = Model(inputs=input_layer, outputs=output_layer)\n",
        "    model.compile(loss='binary_crossentropy',\n",
        "                      optimizer=Adam(clipvalue=1, clipnorm=1),\n",
        "                      metrics=['accuracy'])\n",
        "    return model"
      ],
      "execution_count": 0,
      "outputs": []
    },
    {
      "cell_type": "code",
      "metadata": {
        "id": "n3Tr-5NUvBhB",
        "colab_type": "code",
        "colab": {}
      },
      "source": [
        "model = build_model(embedding_matrix, y_aux_train.shape[1])"
      ],
      "execution_count": 0,
      "outputs": []
    },
    {
      "cell_type": "markdown",
      "metadata": {
        "id": "Zwev15E2EDJO",
        "colab_type": "text"
      },
      "source": [
        "### Задание 3: Напишите свой fit\n",
        "\n",
        "Что в него должно входить?\n",
        "\n",
        "\n",
        "\n",
        "*   Сохранение чекпойнтов\n",
        "*   LRScheduler \n",
        "*   Клиппинг градиентов\n",
        "*   Замер качества каждую эпоху\n",
        "*   Что-то что захочется вам\n",
        "\n",
        "Используйте Keras callbacks"
      ]
    },
    {
      "cell_type": "code",
      "metadata": {
        "id": "V6_TQRMbCuDa",
        "colab_type": "code",
        "outputId": "0eb466f9-c3d4-4a4a-fc22-266f14f3f4be",
        "colab": {
          "base_uri": "https://localhost:8080/",
          "height": 298
        }
      },
      "source": [
        "checkpointer = ModelCheckpoint(filepath = 'model_zero7.{epoch:02d}-{val_loss:.6f}.hdf5',\n",
        "                               verbose=1,\n",
        "                               save_best_only=False, save_weights_only = True)\n",
        "\n",
        "reduce_lr = ReduceLROnPlateau(monitor='val_loss', factor=0.2,\n",
        "                              patience=2, min_lr=0.000001, verbose=1)\n",
        "\n",
        "history = model.fit(X_train, y_train, batch_size=256, epochs = 7, \n",
        "                    validation_data=(X_val, y_val), verbose = 1, \n",
        "                    callbacks = [checkpointer, reduce_lr])"
      ],
      "execution_count": 0,
      "outputs": [
        {
          "output_type": "stream",
          "text": [
            "WARNING:tensorflow:From /usr/local/lib/python3.6/dist-packages/keras/backend/tensorflow_backend.py:1033: The name tf.assign_add is deprecated. Please use tf.compat.v1.assign_add instead.\n",
            "\n",
            "WARNING:tensorflow:From /usr/local/lib/python3.6/dist-packages/keras/backend/tensorflow_backend.py:1020: The name tf.assign is deprecated. Please use tf.compat.v1.assign instead.\n",
            "\n",
            "Train on 135365 samples, validate on 45122 samples\n",
            "Epoch 1/7\n",
            "135365/135365 [==============================] - 253s 2ms/step - loss: 0.1434 - acc: 0.8545 - val_loss: 0.1236 - val_acc: 0.8539\n",
            "\n",
            "Epoch 00001: saving model to model_zero7.01-0.123619.hdf5\n",
            "Epoch 2/7\n",
            "135365/135365 [==============================] - 250s 2ms/step - loss: 0.1171 - acc: 0.8550 - val_loss: 0.1144 - val_acc: 0.8537\n",
            "\n",
            "Epoch 00002: saving model to model_zero7.02-0.114356.hdf5\n",
            "Epoch 3/7\n",
            "121856/135365 [==========================>...] - ETA: 22s - loss: 0.1112 - acc: 0.8556"
          ],
          "name": "stdout"
        }
      ]
    },
    {
      "cell_type": "code",
      "metadata": {
        "id": "FSGYjmdryv2m",
        "colab_type": "code",
        "colab": {}
      },
      "source": [
        "?model.fit"
      ],
      "execution_count": 0,
      "outputs": []
    },
    {
      "cell_type": "markdown",
      "metadata": {
        "id": "Hqrkt420Fsjs",
        "colab_type": "text"
      },
      "source": [
        "### Задание 4:\n",
        "\n",
        "Усредните предсказания модели с нескольких чекпоинтов и сравните качество"
      ]
    },
    {
      "cell_type": "code",
      "metadata": {
        "id": "XGh2Ps59Giey",
        "colab_type": "code",
        "colab": {}
      },
      "source": [
        "#your code here"
      ],
      "execution_count": 0,
      "outputs": []
    },
    {
      "cell_type": "markdown",
      "metadata": {
        "id": "LrWsydVhF5Ff",
        "colab_type": "text"
      },
      "source": [
        "### Задание 5. NMT (бонус)\n",
        "\n",
        "Напишите простую seq2seq сеть для задач машинного перевода.\n",
        "\n",
        "Что в ней должно быть?\n",
        "\n",
        "* Encoder (LSTM сеть, которая возвращает последнее скрытое состояние)\n",
        "* Decoder (LSTM сеть, которая предсказывает токены в новом языке)\n",
        "\n",
        "\n",
        "Прежде, чем строить сеть предобработайте данные: \n",
        "\n",
        "\n",
        "\n",
        "*  Токенизируйте\n",
        "*  Сделайте паддинг\n",
        "*  Загрузите эмбеддинги для энкодера. (как на прошлом семинаре)"
      ]
    },
    {
      "cell_type": "code",
      "metadata": {
        "id": "40ejiiWYxGft",
        "colab_type": "code",
        "colab": {}
      },
      "source": [
        "!wget http://lotus.kuee.kyoto-u.ac.jp/WAT/WAT2017/snmt/small-NMT.tar.bz2\n",
        "!tar -tf small-NMT.tar.bz2"
      ],
      "execution_count": 0,
      "outputs": []
    },
    {
      "cell_type": "code",
      "metadata": {
        "id": "W9_wiOODFkre",
        "colab_type": "code",
        "colab": {}
      },
      "source": [
        "!tar xvjf small-NMT.tar.bz2"
      ],
      "execution_count": 0,
      "outputs": []
    }
  ]
}